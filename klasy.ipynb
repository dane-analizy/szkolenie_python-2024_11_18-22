{
 "cells": [
  {
   "cell_type": "code",
   "execution_count": 1,
   "metadata": {},
   "outputs": [],
   "source": [
    "# klasa to taki obiekt, który ma w sobie zmiennie i funkcje"
   ]
  },
  {
   "cell_type": "code",
   "execution_count": 2,
   "metadata": {},
   "outputs": [],
   "source": [
    "class Zwierze:\n",
    "    liczba_nog = None\n",
    "    kolor = None\n",
    "    gatunek = None\n",
    "    \n"
   ]
  },
  {
   "cell_type": "code",
   "execution_count": 3,
   "metadata": {},
   "outputs": [
    {
     "data": {
      "text/plain": [
       "<__main__.Zwierze at 0x25392e14310>"
      ]
     },
     "execution_count": 3,
     "metadata": {},
     "output_type": "execute_result"
    }
   ],
   "source": [
    "z1 = Zwierze()\n",
    "z1"
   ]
  },
  {
   "cell_type": "code",
   "execution_count": 4,
   "metadata": {},
   "outputs": [],
   "source": [
    "z1.gatunek"
   ]
  },
  {
   "cell_type": "code",
   "execution_count": 5,
   "metadata": {},
   "outputs": [],
   "source": [
    "z1.gatunek = \"kot\""
   ]
  },
  {
   "cell_type": "code",
   "execution_count": 6,
   "metadata": {},
   "outputs": [
    {
     "name": "stdout",
     "output_type": "stream",
     "text": [
      "kot\n"
     ]
    }
   ],
   "source": [
    "print(z1.gatunek)\n"
   ]
  },
  {
   "cell_type": "code",
   "execution_count": 7,
   "metadata": {},
   "outputs": [],
   "source": [
    "z2 = Zwierze()\n",
    "z2.gatunek = \"pies\""
   ]
  },
  {
   "cell_type": "code",
   "execution_count": 8,
   "metadata": {},
   "outputs": [
    {
     "data": {
      "text/plain": [
       "'pies'"
      ]
     },
     "execution_count": 8,
     "metadata": {},
     "output_type": "execute_result"
    }
   ],
   "source": [
    "z2.gatunek"
   ]
  },
  {
   "cell_type": "code",
   "execution_count": 9,
   "metadata": {},
   "outputs": [],
   "source": [
    "# z2.przedstaw_sie()"
   ]
  },
  {
   "cell_type": "code",
   "execution_count": 10,
   "metadata": {},
   "outputs": [],
   "source": [
    "class NoweZwierze:\n",
    "    liczba_nog = None\n",
    "    kolor = None\n",
    "    gatunek = None\n",
    "    \n",
    "    def __init__(self, nogi, kolor, gatunek):\n",
    "        self.gatunek = gatunek\n",
    "        self.kolor = kolor\n",
    "        self.liczba_nog = nogi\n",
    "        print(\"Gotowe!\")\n"
   ]
  },
  {
   "cell_type": "code",
   "execution_count": 11,
   "metadata": {},
   "outputs": [
    {
     "name": "stdout",
     "output_type": "stream",
     "text": [
      "Gotowe!\n"
     ]
    }
   ],
   "source": [
    "zz1 = NoweZwierze(4, \"rudy\", \"kot\")"
   ]
  },
  {
   "cell_type": "code",
   "execution_count": 12,
   "metadata": {},
   "outputs": [
    {
     "data": {
      "text/plain": [
       "'kot'"
      ]
     },
     "execution_count": 12,
     "metadata": {},
     "output_type": "execute_result"
    }
   ],
   "source": [
    "zz1.gatunek"
   ]
  },
  {
   "cell_type": "code",
   "execution_count": 13,
   "metadata": {},
   "outputs": [
    {
     "name": "stdout",
     "output_type": "stream",
     "text": [
      "Gotowe!\n",
      "pies czarny\n"
     ]
    }
   ],
   "source": [
    "zz2 = NoweZwierze(4, \"czarny\", \"pies\")\n",
    "print(zz2.gatunek, zz2.kolor)"
   ]
  },
  {
   "cell_type": "code",
   "execution_count": 14,
   "metadata": {},
   "outputs": [],
   "source": [
    "class LepszeNoweZwierze:\n",
    "    liczba_nog = None\n",
    "    kolor = None\n",
    "    gatunek = None\n",
    "    \n",
    "    def __init__(self, nogi, kolor, gatunek):\n",
    "        self.gatunek = gatunek\n",
    "        self.kolor = kolor\n",
    "        self.liczba_nog = nogi\n",
    "        print(\"Gotowe!\")\n",
    "        \n",
    "    def przedstaw_sie(self):\n",
    "        print(f\"Jestem {self.gatunek}, mam {self.liczba_nog} nogi, oraz {self.kolor} kolor\")\n",
    "        "
   ]
  },
  {
   "cell_type": "code",
   "execution_count": 15,
   "metadata": {},
   "outputs": [
    {
     "name": "stdout",
     "output_type": "stream",
     "text": [
      "Gotowe!\n",
      "Gotowe!\n",
      "Gotowe!\n"
     ]
    }
   ],
   "source": [
    "lnz1 = LepszeNoweZwierze(4, \"czerwony\", \"pies\")\n",
    "lnz2 = LepszeNoweZwierze(2, \"biały\", \"człowiek\")\n",
    "lnz3 = LepszeNoweZwierze(4, \"różowy\", \"świnka\")"
   ]
  },
  {
   "cell_type": "code",
   "execution_count": 16,
   "metadata": {},
   "outputs": [
    {
     "name": "stdout",
     "output_type": "stream",
     "text": [
      "[<__main__.LepszeNoweZwierze object at 0x0000025392E177C0>, <__main__.LepszeNoweZwierze object at 0x0000025392E17760>, <__main__.LepszeNoweZwierze object at 0x0000025392E14190>]\n"
     ]
    }
   ],
   "source": [
    "zoo = [lnz1, lnz2, lnz3]\n",
    "print(zoo)"
   ]
  },
  {
   "cell_type": "code",
   "execution_count": 17,
   "metadata": {},
   "outputs": [
    {
     "name": "stdout",
     "output_type": "stream",
     "text": [
      "Jestem pies, mam 4 nogi, oraz czerwony kolor\n",
      "Jestem człowiek, mam 2 nogi, oraz biały kolor\n",
      "Jestem świnka, mam 4 nogi, oraz różowy kolor\n"
     ]
    }
   ],
   "source": [
    "for zwierz in zoo:\n",
    "    zwierz.przedstaw_sie()"
   ]
  },
  {
   "cell_type": "code",
   "execution_count": 18,
   "metadata": {},
   "outputs": [],
   "source": [
    "class JeszczeLepszeNoweZwierze:\n",
    "    liczba_nog = None\n",
    "    kolor = None\n",
    "    gatunek = None\n",
    "\n",
    "    def __init__(self, nogi, kolor, gatunek):\n",
    "        self.gatunek = gatunek\n",
    "        self.kolor = kolor\n",
    "        self.liczba_nog = nogi\n",
    "        print(\"Gotowe!\")\n",
    "\n",
    "    def przedstaw_sie(self):\n",
    "        print(\n",
    "            f\"Jestem SUPER NOWYM {self.gatunek}, mam {self.liczba_nog} nogi, oraz {self.kolor} kolor\"\n",
    "        )\n"
   ]
  },
  {
   "cell_type": "code",
   "execution_count": 19,
   "metadata": {},
   "outputs": [
    {
     "name": "stdout",
     "output_type": "stream",
     "text": [
      "Gotowe!\n",
      "Gotowe!\n",
      "Gotowe!\n"
     ]
    }
   ],
   "source": [
    "jlnz1 = JeszczeLepszeNoweZwierze(4, \"czerwony\", \"pies\")\n",
    "jlnz2 = JeszczeLepszeNoweZwierze(2, \"biały\", \"człowiek\")\n",
    "jlnz3 = JeszczeLepszeNoweZwierze(4, \"różowy\", \"świnka\")\n"
   ]
  },
  {
   "cell_type": "code",
   "execution_count": 20,
   "metadata": {},
   "outputs": [],
   "source": [
    "zoo.append(jlnz1)\n",
    "zoo.append(jlnz2)\n",
    "zoo.append(jlnz3)"
   ]
  },
  {
   "cell_type": "code",
   "execution_count": 21,
   "metadata": {},
   "outputs": [
    {
     "data": {
      "text/plain": [
       "[<__main__.LepszeNoweZwierze at 0x25392e177c0>,\n",
       " <__main__.LepszeNoweZwierze at 0x25392e17760>,\n",
       " <__main__.LepszeNoweZwierze at 0x25392e14190>,\n",
       " <__main__.JeszczeLepszeNoweZwierze at 0x25392e159c0>,\n",
       " <__main__.JeszczeLepszeNoweZwierze at 0x25392e17880>,\n",
       " <__main__.JeszczeLepszeNoweZwierze at 0x25392e177f0>]"
      ]
     },
     "execution_count": 21,
     "metadata": {},
     "output_type": "execute_result"
    }
   ],
   "source": [
    "zoo"
   ]
  },
  {
   "cell_type": "code",
   "execution_count": 22,
   "metadata": {},
   "outputs": [],
   "source": [
    "class Lodowka:\n",
    "    def __init__(self,  kolor):\n",
    "        self.kolor = kolor\n",
    "\n",
    "    def przedstaw_sie(self):\n",
    "        print(\n",
    "            f\"Jestem lodwóką o kolorze {self.kolor}\"\n",
    "        )\n"
   ]
  },
  {
   "cell_type": "code",
   "execution_count": 23,
   "metadata": {},
   "outputs": [],
   "source": [
    "lod = Lodowka(\"niebieska\")"
   ]
  },
  {
   "cell_type": "code",
   "execution_count": 24,
   "metadata": {},
   "outputs": [],
   "source": [
    "zoo.append(lod)"
   ]
  },
  {
   "cell_type": "code",
   "execution_count": 25,
   "metadata": {},
   "outputs": [
    {
     "data": {
      "text/plain": [
       "[<__main__.LepszeNoweZwierze at 0x25392e177c0>,\n",
       " <__main__.LepszeNoweZwierze at 0x25392e17760>,\n",
       " <__main__.LepszeNoweZwierze at 0x25392e14190>,\n",
       " <__main__.JeszczeLepszeNoweZwierze at 0x25392e159c0>,\n",
       " <__main__.JeszczeLepszeNoweZwierze at 0x25392e17880>,\n",
       " <__main__.JeszczeLepszeNoweZwierze at 0x25392e177f0>,\n",
       " <__main__.Lodowka at 0x25392e16260>]"
      ]
     },
     "execution_count": 25,
     "metadata": {},
     "output_type": "execute_result"
    }
   ],
   "source": [
    "zoo"
   ]
  },
  {
   "cell_type": "code",
   "execution_count": 26,
   "metadata": {},
   "outputs": [
    {
     "name": "stdout",
     "output_type": "stream",
     "text": [
      "Jestem pies, mam 4 nogi, oraz czerwony kolor\n",
      "Jestem człowiek, mam 2 nogi, oraz biały kolor\n",
      "Jestem świnka, mam 4 nogi, oraz różowy kolor\n",
      "Jestem SUPER NOWYM pies, mam 4 nogi, oraz czerwony kolor\n",
      "Jestem SUPER NOWYM człowiek, mam 2 nogi, oraz biały kolor\n",
      "Jestem SUPER NOWYM świnka, mam 4 nogi, oraz różowy kolor\n",
      "Jestem lodwóką o kolorze niebieska\n"
     ]
    }
   ],
   "source": [
    "for zwierz in zoo:\n",
    "    zwierz.przedstaw_sie()\n"
   ]
  },
  {
   "cell_type": "code",
   "execution_count": 27,
   "metadata": {},
   "outputs": [],
   "source": [
    "class Zamrazarka(Lodowka):\n",
    "    def mrozenie(self):\n",
    "        self.czy_mrozenie = True\n",
    "        \n",
    "    def rozmrozenie(self):\n",
    "        self.czy_mrozenie = False\n",
    "        \n",
    "    def co_robisz(self):\n",
    "        if self.czy_mrozenie:\n",
    "            print(\"Mrożę\")\n",
    "        else:\n",
    "            print(\"Rozmrażam\")\n"
   ]
  },
  {
   "cell_type": "code",
   "execution_count": 28,
   "metadata": {},
   "outputs": [],
   "source": [
    "zam = Zamrazarka(\"żółty\")"
   ]
  },
  {
   "cell_type": "code",
   "execution_count": 29,
   "metadata": {},
   "outputs": [
    {
     "name": "stdout",
     "output_type": "stream",
     "text": [
      "Jestem lodwóką o kolorze żółty\n"
     ]
    }
   ],
   "source": [
    "zam.przedstaw_sie()"
   ]
  },
  {
   "cell_type": "code",
   "execution_count": 31,
   "metadata": {},
   "outputs": [],
   "source": [
    "zam.rozmrozenie()"
   ]
  },
  {
   "cell_type": "code",
   "execution_count": 32,
   "metadata": {},
   "outputs": [
    {
     "name": "stdout",
     "output_type": "stream",
     "text": [
      "Rozmrażam\n"
     ]
    }
   ],
   "source": [
    "zam.co_robisz()"
   ]
  }
 ],
 "metadata": {
  "kernelspec": {
   "display_name": "Python 3",
   "language": "python",
   "name": "python3"
  },
  "language_info": {
   "codemirror_mode": {
    "name": "ipython",
    "version": 3
   },
   "file_extension": ".py",
   "mimetype": "text/x-python",
   "name": "python",
   "nbconvert_exporter": "python",
   "pygments_lexer": "ipython3",
   "version": "3.10.7"
  }
 },
 "nbformat": 4,
 "nbformat_minor": 2
}
